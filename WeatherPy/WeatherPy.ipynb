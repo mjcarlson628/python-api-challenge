{
 "cells": [
  {
   "cell_type": "code",
   "execution_count": 59,
   "id": "925aa204-c3a0-42a9-8ed1-f0724f6ff144",
   "metadata": {},
   "outputs": [],
   "source": [
    "import pandas as pd\n",
    "import requests\n",
    "import random\n",
    "import json\n",
    "from citipy import citipy\n",
    "from scipy import stats\n",
    "import matplotlib.pyplot as plt"
   ]
  },
  {
   "cell_type": "code",
   "execution_count": 3,
   "id": "bf5c84d4-fff2-495c-a984-394b7d484fa4",
   "metadata": {},
   "outputs": [],
   "source": [
    "weather_base_url = \"http://api.openweathermap.org/data/2.5/weather?\""
   ]
  },
  {
   "cell_type": "code",
   "execution_count": null,
   "id": "53488fb8-8387-4d31-95c5-e0d85114d705",
   "metadata": {},
   "outputs": [],
   "source": [
    "# Deleted api key information before pushing to github"
   ]
  },
  {
   "cell_type": "markdown",
   "id": "65c24fb1-f995-488f-b0b6-75bb0466ae9c",
   "metadata": {},
   "source": [
    "## List of Cities"
   ]
  },
  {
   "cell_type": "code",
   "execution_count": 15,
   "id": "736f0cf7-8e60-4cee-85b9-32f2fe700b7f",
   "metadata": {},
   "outputs": [
    {
     "name": "stdout",
     "output_type": "stream",
     "text": [
      "800\n"
     ]
    }
   ],
   "source": [
    "# DataFrame to hold the weather data\n",
    "\n",
    "columns = [\"City\", \"Lat\", \"Lng\", \"Max Temp\", \"Humidity\", \"Cloudiness\", \"Wind Speed\", \"Country\", \"Date\"]\n",
    "cities_df = pd.DataFrame(columns = columns)\n",
    "\n",
    "# Generate cities list\n",
    "cities_list = []\n",
    "\n",
    "# Convert to set to remove duplicate cities\n",
    "# Additional cities are collected in case the weather api didn't recognize the name\n",
    "while len(set(cities_list)) < 800:\n",
    "    \n",
    "# Coordinates are generated using random numbers within the bounds of latitude and longitude values\n",
    "    lat = round(random.randint(-90, 89) + random.random(), 6)\n",
    "    lng = round(random.randint(-180, 179) + random.random(), 6)\n",
    "    city = citipy.nearest_city(lat, lng)\n",
    "    cities_list.append(city.city_name)\n",
    "    \n",
    "cities_list = list(set(cities_list))\n",
    "print(len(cities_list))"
   ]
  },
  {
   "cell_type": "code",
   "execution_count": 53,
   "id": "8c81d8b1-8776-4515-817f-40bb8d29864a",
   "metadata": {},
   "outputs": [],
   "source": [
    "# Save this random list of cities to CitiesList.csv\n",
    "\n",
    "cities_list_df = pd.DataFrame(cities_list)\n",
    "cities_list_df.to_csv(\"CitiesList.csv\")"
   ]
  },
  {
   "cell_type": "markdown",
   "id": "f7338473-8985-4917-aeb3-c6b6e31f649d",
   "metadata": {},
   "source": [
    "## Perform API Calls"
   ]
  },
  {
   "cell_type": "code",
   "execution_count": 10,
   "id": "349d5a52-9f32-4d62-8e31-c72b89a450ac",
   "metadata": {},
   "outputs": [],
   "source": [
    "columns = [\"City\", \"Lat\", \"Lng\", \"Max Temp\", \"Humidity\", \"Cloudiness\", \"Wind Speed\", \"Country\", \"Date\"]\n",
    "cities_df = pd.DataFrame(columns = columns)"
   ]
  },
  {
   "cell_type": "code",
   "execution_count": 48,
   "id": "f53c7fda-1680-4795-a3af-883fb778686f",
   "metadata": {},
   "outputs": [
    {
     "name": "stdout",
     "output_type": "stream",
     "text": [
      "city 1 processed: burnie\n",
      "city 2 processed: bambous virieux\n",
      "city 3 processed: sidi bin nur\n",
      "city 4 not found: phan rang\n",
      "city 5 processed: chhatarpur\n",
      "city 6 processed: chernogorsk\n",
      "city 7 processed: nemuro\n",
      "city 8 processed: tema\n",
      "city 9 processed: chernyshevskiy\n",
      "1 cities not found\n",
      "504 total cities in dataframe\n"
     ]
    },
    {
     "data": {
      "text/html": [
       "<div>\n",
       "<style scoped>\n",
       "    .dataframe tbody tr th:only-of-type {\n",
       "        vertical-align: middle;\n",
       "    }\n",
       "\n",
       "    .dataframe tbody tr th {\n",
       "        vertical-align: top;\n",
       "    }\n",
       "\n",
       "    .dataframe thead th {\n",
       "        text-align: right;\n",
       "    }\n",
       "</style>\n",
       "<table border=\"1\" class=\"dataframe\">\n",
       "  <thead>\n",
       "    <tr style=\"text-align: right;\">\n",
       "      <th></th>\n",
       "      <th>City</th>\n",
       "      <th>Lat</th>\n",
       "      <th>Lng</th>\n",
       "      <th>Max Temp</th>\n",
       "      <th>Humidity</th>\n",
       "      <th>Cloudiness</th>\n",
       "      <th>Wind Speed</th>\n",
       "      <th>Country</th>\n",
       "      <th>Date</th>\n",
       "    </tr>\n",
       "  </thead>\n",
       "  <tbody>\n",
       "    <tr>\n",
       "      <th>499</th>\n",
       "      <td>chhatarpur</td>\n",
       "      <td>24.9000</td>\n",
       "      <td>79.6000</td>\n",
       "      <td>85.73</td>\n",
       "      <td>55</td>\n",
       "      <td>69</td>\n",
       "      <td>5.21</td>\n",
       "      <td>IN</td>\n",
       "      <td>1626304313</td>\n",
       "    </tr>\n",
       "    <tr>\n",
       "      <th>500</th>\n",
       "      <td>chernogorsk</td>\n",
       "      <td>53.8236</td>\n",
       "      <td>91.2842</td>\n",
       "      <td>65.77</td>\n",
       "      <td>88</td>\n",
       "      <td>40</td>\n",
       "      <td>2.24</td>\n",
       "      <td>RU</td>\n",
       "      <td>1626304313</td>\n",
       "    </tr>\n",
       "    <tr>\n",
       "      <th>501</th>\n",
       "      <td>nemuro</td>\n",
       "      <td>43.3236</td>\n",
       "      <td>145.5750</td>\n",
       "      <td>60.03</td>\n",
       "      <td>96</td>\n",
       "      <td>87</td>\n",
       "      <td>2.33</td>\n",
       "      <td>JP</td>\n",
       "      <td>1626304314</td>\n",
       "    </tr>\n",
       "    <tr>\n",
       "      <th>502</th>\n",
       "      <td>tema</td>\n",
       "      <td>5.6670</td>\n",
       "      <td>-0.0166</td>\n",
       "      <td>77.00</td>\n",
       "      <td>81</td>\n",
       "      <td>88</td>\n",
       "      <td>10.20</td>\n",
       "      <td>GH</td>\n",
       "      <td>1626304314</td>\n",
       "    </tr>\n",
       "    <tr>\n",
       "      <th>503</th>\n",
       "      <td>chernyshevskiy</td>\n",
       "      <td>63.0128</td>\n",
       "      <td>112.4714</td>\n",
       "      <td>52.75</td>\n",
       "      <td>68</td>\n",
       "      <td>100</td>\n",
       "      <td>11.48</td>\n",
       "      <td>RU</td>\n",
       "      <td>1626304314</td>\n",
       "    </tr>\n",
       "  </tbody>\n",
       "</table>\n",
       "</div>"
      ],
      "text/plain": [
       "               City      Lat       Lng  Max Temp Humidity Cloudiness  \\\n",
       "499      chhatarpur  24.9000   79.6000     85.73       55         69   \n",
       "500     chernogorsk  53.8236   91.2842     65.77       88         40   \n",
       "501          nemuro  43.3236  145.5750     60.03       96         87   \n",
       "502            tema   5.6670   -0.0166     77.00       81         88   \n",
       "503  chernyshevskiy  63.0128  112.4714     52.75       68        100   \n",
       "\n",
       "     Wind Speed Country        Date  \n",
       "499        5.21      IN  1626304313  \n",
       "500        2.24      RU  1626304313  \n",
       "501        2.33      JP  1626304314  \n",
       "502       10.20      GH  1626304314  \n",
       "503       11.48      RU  1626304314  "
      ]
     },
     "execution_count": 48,
     "metadata": {},
     "output_type": "execute_result"
    }
   ],
   "source": [
    "# I ran this cell on slices of cities_list until there were >500 cities with weather data\n",
    "\n",
    "i = 1\n",
    "j = 0\n",
    "for city in cities_list[551:560]:       \n",
    "    url = weather_base_url + \"&appid=\" + weather_api_key + \"&q=\" + city + \"&units=Imperial\"\n",
    "    response = requests.get(url).json()\n",
    "    \n",
    "    try:\n",
    "        lat = response[\"coord\"][\"lat\"]\n",
    "        lng = response[\"coord\"][\"lon\"]\n",
    "        temp_max = response[\"main\"][\"temp_max\"]\n",
    "        humidity = response[\"main\"][\"humidity\"]\n",
    "        cloudiness = response[\"clouds\"][\"all\"]\n",
    "        wind_speed = response[\"wind\"][\"speed\"]\n",
    "        country = response[\"sys\"][\"country\"]\n",
    "        date = response[\"dt\"]\n",
    "\n",
    "        cities_df = cities_df.append({\n",
    "            \"City\": city,\n",
    "            \"Lat\": lat,\n",
    "            \"Lng\": lng,\n",
    "            \"Max Temp\": temp_max,\n",
    "            \"Humidity\": humidity,\n",
    "            \"Cloudiness\": cloudiness,\n",
    "            \"Wind Speed\": wind_speed,\n",
    "            \"Country\": country,\n",
    "            \"Date\": date\n",
    "        }, ignore_index = True)\n",
    "        print(f\"city {i} processed: {city}\")\n",
    "        \n",
    "    except KeyError:\n",
    "        print(f\"city {i} not found: {city}\")\n",
    "        j += 1\n",
    "\n",
    "    i += 1\n",
    "print(f\"{j} cities not found\")\n",
    "print(f\"{len(cities_df)} total cities in dataframe\")\n",
    "    \n",
    "cities_df.tail()"
   ]
  },
  {
   "cell_type": "code",
   "execution_count": 50,
   "id": "9aa3a7d1-0d51-4bae-968e-f7c371726826",
   "metadata": {},
   "outputs": [
    {
     "data": {
      "text/plain": [
       "swellendam                  1\n",
       "sao gabriel da cachoeira    1\n",
       "buluang                     1\n",
       "ngunguru                    1\n",
       "camacha                     1\n",
       "Name: City, dtype: int64"
      ]
     },
     "execution_count": 50,
     "metadata": {},
     "output_type": "execute_result"
    }
   ],
   "source": [
    "# confirm there are no duplicate cities\n",
    "cities_df[\"City\"].value_counts().head()"
   ]
  },
  {
   "cell_type": "code",
   "execution_count": 52,
   "id": "cfdf711f-705e-4f01-8a57-b5a81144d038",
   "metadata": {},
   "outputs": [
    {
     "data": {
      "text/plain": [
       "City           object\n",
       "Lat           float64\n",
       "Lng           float64\n",
       "Max Temp      float64\n",
       "Humidity       object\n",
       "Cloudiness     object\n",
       "Wind Speed    float64\n",
       "Country        object\n",
       "Date           object\n",
       "dtype: object"
      ]
     },
     "execution_count": 52,
     "metadata": {},
     "output_type": "execute_result"
    }
   ],
   "source": [
    "cities_df.dtypes"
   ]
  },
  {
   "cell_type": "code",
   "execution_count": 54,
   "id": "b9791e21-db02-4b69-8558-caa78f262b23",
   "metadata": {},
   "outputs": [
    {
     "data": {
      "text/plain": [
       "City           object\n",
       "Lat           float64\n",
       "Lng           float64\n",
       "Max Temp      float64\n",
       "Humidity        int64\n",
       "Cloudiness      int64\n",
       "Wind Speed    float64\n",
       "Country        object\n",
       "Date           object\n",
       "dtype: object"
      ]
     },
     "execution_count": 54,
     "metadata": {},
     "output_type": "execute_result"
    }
   ],
   "source": [
    "# Convert humidity and cloudiness to int\n",
    "cities_df[\"Humidity\"] = pd.to_numeric(cities_df[\"Humidity\"])\n",
    "cities_df[\"Cloudiness\"] = pd.to_numeric(cities_df[\"Cloudiness\"])\n",
    "cities_df.dtypes"
   ]
  },
  {
   "cell_type": "code",
   "execution_count": 55,
   "id": "2fedf14b-7e89-4c61-92af-00ac5db68b3b",
   "metadata": {},
   "outputs": [
    {
     "data": {
      "text/html": [
       "<div>\n",
       "<style scoped>\n",
       "    .dataframe tbody tr th:only-of-type {\n",
       "        vertical-align: middle;\n",
       "    }\n",
       "\n",
       "    .dataframe tbody tr th {\n",
       "        vertical-align: top;\n",
       "    }\n",
       "\n",
       "    .dataframe thead th {\n",
       "        text-align: right;\n",
       "    }\n",
       "</style>\n",
       "<table border=\"1\" class=\"dataframe\">\n",
       "  <thead>\n",
       "    <tr style=\"text-align: right;\">\n",
       "      <th></th>\n",
       "      <th>Lat</th>\n",
       "      <th>Lng</th>\n",
       "      <th>Max Temp</th>\n",
       "      <th>Humidity</th>\n",
       "      <th>Cloudiness</th>\n",
       "      <th>Wind Speed</th>\n",
       "    </tr>\n",
       "  </thead>\n",
       "  <tbody>\n",
       "    <tr>\n",
       "      <th>count</th>\n",
       "      <td>504.000000</td>\n",
       "      <td>504.000000</td>\n",
       "      <td>504.000000</td>\n",
       "      <td>504.000000</td>\n",
       "      <td>504.00000</td>\n",
       "      <td>504.000000</td>\n",
       "    </tr>\n",
       "    <tr>\n",
       "      <th>mean</th>\n",
       "      <td>19.223210</td>\n",
       "      <td>21.306882</td>\n",
       "      <td>69.938849</td>\n",
       "      <td>71.595238</td>\n",
       "      <td>56.77381</td>\n",
       "      <td>7.736488</td>\n",
       "    </tr>\n",
       "    <tr>\n",
       "      <th>std</th>\n",
       "      <td>32.768155</td>\n",
       "      <td>86.979543</td>\n",
       "      <td>13.581590</td>\n",
       "      <td>19.853210</td>\n",
       "      <td>38.10361</td>\n",
       "      <td>5.549897</td>\n",
       "    </tr>\n",
       "    <tr>\n",
       "      <th>min</th>\n",
       "      <td>-54.800000</td>\n",
       "      <td>-173.300000</td>\n",
       "      <td>29.860000</td>\n",
       "      <td>6.000000</td>\n",
       "      <td>0.00000</td>\n",
       "      <td>0.000000</td>\n",
       "    </tr>\n",
       "    <tr>\n",
       "      <th>25%</th>\n",
       "      <td>-6.842575</td>\n",
       "      <td>-56.142300</td>\n",
       "      <td>60.720000</td>\n",
       "      <td>63.000000</td>\n",
       "      <td>17.00000</td>\n",
       "      <td>3.440000</td>\n",
       "    </tr>\n",
       "    <tr>\n",
       "      <th>50%</th>\n",
       "      <td>23.789300</td>\n",
       "      <td>22.945800</td>\n",
       "      <td>71.610000</td>\n",
       "      <td>77.000000</td>\n",
       "      <td>71.00000</td>\n",
       "      <td>6.330000</td>\n",
       "    </tr>\n",
       "    <tr>\n",
       "      <th>75%</th>\n",
       "      <td>45.913550</td>\n",
       "      <td>98.413450</td>\n",
       "      <td>79.777500</td>\n",
       "      <td>86.000000</td>\n",
       "      <td>93.00000</td>\n",
       "      <td>10.360000</td>\n",
       "    </tr>\n",
       "    <tr>\n",
       "      <th>max</th>\n",
       "      <td>78.218600</td>\n",
       "      <td>179.316700</td>\n",
       "      <td>102.650000</td>\n",
       "      <td>100.000000</td>\n",
       "      <td>100.00000</td>\n",
       "      <td>32.210000</td>\n",
       "    </tr>\n",
       "  </tbody>\n",
       "</table>\n",
       "</div>"
      ],
      "text/plain": [
       "              Lat         Lng    Max Temp    Humidity  Cloudiness  Wind Speed\n",
       "count  504.000000  504.000000  504.000000  504.000000   504.00000  504.000000\n",
       "mean    19.223210   21.306882   69.938849   71.595238    56.77381    7.736488\n",
       "std     32.768155   86.979543   13.581590   19.853210    38.10361    5.549897\n",
       "min    -54.800000 -173.300000   29.860000    6.000000     0.00000    0.000000\n",
       "25%     -6.842575  -56.142300   60.720000   63.000000    17.00000    3.440000\n",
       "50%     23.789300   22.945800   71.610000   77.000000    71.00000    6.330000\n",
       "75%     45.913550   98.413450   79.777500   86.000000    93.00000   10.360000\n",
       "max     78.218600  179.316700  102.650000  100.000000   100.00000   32.210000"
      ]
     },
     "execution_count": 55,
     "metadata": {},
     "output_type": "execute_result"
    }
   ],
   "source": [
    "# Summary statistics of weather data for all cities\n",
    "cities_df.describe()"
   ]
  },
  {
   "cell_type": "code",
   "execution_count": 56,
   "id": "c4f6fd96-ff7a-4959-9a12-8cab07ce633e",
   "metadata": {},
   "outputs": [
    {
     "data": {
      "text/html": [
       "<div>\n",
       "<style scoped>\n",
       "    .dataframe tbody tr th:only-of-type {\n",
       "        vertical-align: middle;\n",
       "    }\n",
       "\n",
       "    .dataframe tbody tr th {\n",
       "        vertical-align: top;\n",
       "    }\n",
       "\n",
       "    .dataframe thead th {\n",
       "        text-align: right;\n",
       "    }\n",
       "</style>\n",
       "<table border=\"1\" class=\"dataframe\">\n",
       "  <thead>\n",
       "    <tr style=\"text-align: right;\">\n",
       "      <th></th>\n",
       "      <th>City</th>\n",
       "      <th>Lat</th>\n",
       "      <th>Lng</th>\n",
       "      <th>Max Temp</th>\n",
       "      <th>Humidity</th>\n",
       "      <th>Cloudiness</th>\n",
       "      <th>Wind Speed</th>\n",
       "      <th>Country</th>\n",
       "      <th>Date</th>\n",
       "    </tr>\n",
       "  </thead>\n",
       "  <tbody>\n",
       "  </tbody>\n",
       "</table>\n",
       "</div>"
      ],
      "text/plain": [
       "Empty DataFrame\n",
       "Columns: [City, Lat, Lng, Max Temp, Humidity, Cloudiness, Wind Speed, Country, Date]\n",
       "Index: []"
      ]
     },
     "execution_count": 56,
     "metadata": {},
     "output_type": "execute_result"
    }
   ],
   "source": [
    "# No cities had humidity > 100\n",
    "cities_df.loc[cities_df[\"Humidity\"] > 100]"
   ]
  },
  {
   "cell_type": "markdown",
   "id": "afd05f49-96e0-4d31-a53e-d267ca7762d3",
   "metadata": {},
   "source": [
    "## Latitude vs Temperature Plot"
   ]
  },
  {
   "cell_type": "code",
   "execution_count": 58,
   "id": "28e50512-f437-46be-9e38-8f0e2f7bc915",
   "metadata": {},
   "outputs": [],
   "source": [
    "# Split into hemispheres to plot separate regression lines\n",
    "north_df = cities_df.loc[cities_df[\"Lat\"] > 0]\n",
    "south_df = cities_df.loc[cities_df[\"Lat\"] < 0]"
   ]
  },
  {
   "cell_type": "code",
   "execution_count": 63,
   "id": "2780d136-6b78-468c-ab84-6a2a40fc69c6",
   "metadata": {},
   "outputs": [
    {
     "data": {
      "image/png": "[encoded data removed]",
      "text/plain": [
       "<Figure size 432x288 with 1 Axes>"
      ]
     },
     "metadata": {
      "needs_background": "light"
     },
     "output_type": "display_data"
    }
   ],
   "source": [
    "# All cities\n",
    "plt.scatter(cities_df[\"Lat\"], cities_df[\"Max Temp\"])\n",
    "plt.title(\"City Latitude vs Max Temperature (07/14/21)\")\n",
    "plt.xlabel(\"Latitude\")\n",
    "plt.ylabel(\"Max Temperature (F)\")\n",
    "\n",
    "plt.show()"
   ]
  },
  {
   "cell_type": "code",
   "execution_count": 64,
   "id": "619f51c0-425f-4871-ac5f-ab91920446ba",
   "metadata": {},
   "outputs": [
    {
     "data": {
      "image/png": "[encoded data removed]",
      "text/plain": [
       "<Figure size 432x288 with 1 Axes>"
      ]
     },
     "metadata": {
      "needs_background": "light"
     },
     "output_type": "display_data"
    }
   ],
   "source": [
    "# Northern Hemisphere\n",
    "plt.scatter(north_df[\"Lat\"], north_df[\"Max Temp\"])\n",
    "plt.title(\"Northern Hemisphere City Latitude vs Max Temperature (07/14/21)\")\n",
    "plt.xlabel(\"Latitude\")\n",
    "plt.ylabel(\"Max Temperature (F)\")\n",
    "\n",
    "plt.show()"
   ]
  },
  {
   "cell_type": "code",
   "execution_count": 65,
   "id": "1c44e9e8-2423-4084-9bed-1411ffeeed71",
   "metadata": {},
   "outputs": [
    {
     "data": {
      "image/png": "[encoded data removed]",
      "text/plain": [
       "<Figure size 432x288 with 1 Axes>"
      ]
     },
     "metadata": {
      "needs_background": "light"
     },
     "output_type": "display_data"
    }
   ],
   "source": [
    "# Southern Hemisphere\n",
    "plt.scatter(south_df[\"Lat\"], south_df[\"Max Temp\"])\n",
    "plt.title(\"Southern Hemisphere City Latitude vs Max Temperature (07/14/21)\")\n",
    "plt.xlabel(\"Latitude\")\n",
    "plt.ylabel(\"Max Temperature (F)\")\n",
    "\n",
    "plt.show()"
   ]
  },
  {
   "cell_type": "markdown",
   "id": "d3d50186-d72f-4d45-9b07-7e56ed8a54e8",
   "metadata": {},
   "source": [
    "The latitude vs temperature plots show that weather generally gets hotter moving toward the equator and cooler moving away. "
   ]
  },
  {
   "cell_type": "markdown",
   "id": "0458a8bb-2b5a-4c2d-81f5-89c1a88e3b71",
   "metadata": {},
   "source": [
    "## Humidity (%) vs Latitude"
   ]
  },
  {
   "cell_type": "code",
   "execution_count": null,
   "id": "366997ec-1d27-471c-afbe-9d85ea187ed0",
   "metadata": {},
   "outputs": [],
   "source": []
  },
  {
   "cell_type": "code",
   "execution_count": null,
   "id": "caab3936-40b7-48cd-b1f4-a6088180de64",
   "metadata": {},
   "outputs": [],
   "source": []
  },
  {
   "cell_type": "markdown",
   "id": "e241e3dd-4b05-4df4-9e1c-6af07008ac08",
   "metadata": {},
   "source": [
    "## Cloudiness (%) vs Latitude"
   ]
  },
  {
   "cell_type": "code",
   "execution_count": null,
   "id": "67f6c254-fc77-4da7-99ce-8e955b9ba382",
   "metadata": {},
   "outputs": [],
   "source": []
  },
  {
   "cell_type": "code",
   "execution_count": null,
   "id": "3d8ade58-a22f-4c6b-aa0e-3f10952c3681",
   "metadata": {},
   "outputs": [],
   "source": []
  },
  {
   "cell_type": "markdown",
   "id": "d26e3746-6f27-49f8-b927-809d544ca0b7",
   "metadata": {},
   "source": [
    "## Wind Speed (mph) vs Latitude"
   ]
  },
  {
   "cell_type": "code",
   "execution_count": null,
   "id": "d91af520-ac93-465c-8e89-c02aa009613c",
   "metadata": {},
   "outputs": [],
   "source": []
  },
  {
   "cell_type": "code",
   "execution_count": null,
   "id": "04cbf009-8210-48d9-8cca-131cc0fe1530",
   "metadata": {},
   "outputs": [],
   "source": []
  }
 ],
 "metadata": {
  "kernelspec": {
   "display_name": "Python 3",
   "language": "python",
   "name": "python3"
  },
  "language_info": {
   "codemirror_mode": {
    "name": "ipython",
    "version": 3
   },
   "file_extension": ".py",
   "mimetype": "text/x-python",
   "name": "python",
   "nbconvert_exporter": "python",
   "pygments_lexer": "ipython3",
   "version": "3.9.5"
  }
 },
 "nbformat": 4,
 "nbformat_minor": 5
}
